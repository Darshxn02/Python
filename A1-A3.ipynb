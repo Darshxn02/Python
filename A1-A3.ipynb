{
 "cells": [
  {
   "cell_type": "code",
   "execution_count": 8,
   "id": "c774eb50",
   "metadata": {},
   "outputs": [
    {
     "name": "stdin",
     "output_type": "stream",
     "text": [
      "Enter the length of side 1:  2\n",
      "Enter the length of side 2:  3\n",
      "Enter the length of side 3:  4\n"
     ]
    },
    {
     "name": "stdout",
     "output_type": "stream",
     "text": [
      "The area of the triangle is: 2.9047375096555625\n"
     ]
    }
   ],
   "source": [
    "#A1\n",
    "class Polygon:\n",
    "    def __init__(self, sides):\n",
    "        self.sides = sides  \n",
    "\n",
    "    def find_area(self):\n",
    "        raise NotImplementedError(\"Subclasses must implement this method.\")\n",
    "\n",
    "class Triangle(Polygon):\n",
    "    def __init__(self):\n",
    "        super().__init__(3)\n",
    "        self.side1 = float(input(\"Enter the length of side 1: \"))\n",
    "        self.side2 = float(input(\"Enter the length of side 2: \"))\n",
    "        self.side3 = float(input(\"Enter the length of side 3: \"))\n",
    "\n",
    "    def find_area(self):\n",
    "        s = (self.side1 + self.side2 + self.side3) / 2\n",
    "        area = (s * (s - self.side1) * (s - self.side2) * (s - self.side3)) ** 0.5\n",
    "        return area\n",
    "\n",
    "triangle = Triangle()\n",
    "\n",
    "area = triangle.find_area()\n",
    "print(f\"The area of the triangle is: {area}\")"
   ]
  },
  {
   "cell_type": "code",
   "execution_count": 10,
   "id": "f4323507-b952-4d4d-8d56-f7b314a69580",
   "metadata": {},
   "outputs": [
    {
     "name": "stdout",
     "output_type": "stream",
     "text": [
      "xyz@gmil.com\n",
      "999@99ad.com\n",
      "abc_987@vvce.ac.in\n"
     ]
    },
    {
     "name": "stdin",
     "output_type": "stream",
     "text": [
      "Input your password:  Vcse@123\n"
     ]
    },
    {
     "name": "stdout",
     "output_type": "stream",
     "text": [
      "valid password\n"
     ]
    }
   ],
   "source": [
    "# A2\n",
    "import re\n",
    "\n",
    "text = \"xyz@gmil.com and 999@99ad.com and abc_987@vvce.ac.in are the mail ids.\"\n",
    "\n",
    "emailRegex = re.compile(r'[a-zA-Z0-9._%+-]+@[a-zA-Z0-9.-]+\\.[a-zA-Z]{2,4}')\n",
    "L = emailRegex.findall(text)\n",
    "\n",
    "for email in L:\n",
    "    print(email)\n",
    "\n",
    "\n",
    "import re\n",
    "p= input(\"Input your password: \")\n",
    "if len(p)>5 and len(p)<17 and re.search('[a-z]',p) and re.search('[A-Z]',p) and re.search('[0-9]',p) and re.search('[$#@_]',p):\n",
    "    print(\"valid password\")\n",
    "else:\n",
    "    print(\"invalid password\")"
   ]
  },
  {
   "cell_type": "code",
   "execution_count": 12,
   "id": "ad899045",
   "metadata": {},
   "outputs": [
    {
     "name": "stdin",
     "output_type": "stream",
     "text": [
      "Enter no of student 0\n"
     ]
    },
    {
     "name": "stdout",
     "output_type": "stream",
     "text": [
      "Orginal array []\n",
      "Sorted []\n"
     ]
    }
   ],
   "source": [
    "#A3\n",
    "import numpy as np\n",
    "def student_info():\n",
    "    name=input('Enter a name')\n",
    "    height=float(input('Enter the height'))\n",
    "    class_num=int(input('Enter the class'))\n",
    "    return name,height,class_num\n",
    "\n",
    "students=int(input(\"Enter no of student\"))\n",
    "dtypes=[('name','U20'),('height','float'),('class',int)]\n",
    "students_array=np.empty(students,dtype=dtypes)\n",
    "for i in range(students):\n",
    "        print('Enter info')\n",
    "        students_array[i]=student_info()\n",
    "print('Orginal array',students_array)\n",
    "sorted_array=np.sort(students_array,order='height')\n",
    "print('Sorted',sorted_array)"
   ]
  },
  {
   "cell_type": "code",
   "execution_count": null,
   "id": "a4b1408b",
   "metadata": {},
   "outputs": [],
   "source": []
  }
 ],
 "metadata": {
  "kernelspec": {
   "display_name": "Python [conda env:base] *",
   "language": "python",
   "name": "conda-base-py"
  },
  "language_info": {
   "codemirror_mode": {
    "name": "ipython",
    "version": 3
   },
   "file_extension": ".py",
   "mimetype": "text/x-python",
   "name": "python",
   "nbconvert_exporter": "python",
   "pygments_lexer": "ipython3",
   "version": "3.12.7"
  }
 },
 "nbformat": 4,
 "nbformat_minor": 5
}
