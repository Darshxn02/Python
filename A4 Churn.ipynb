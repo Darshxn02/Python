{
 "cells": [
  {
   "cell_type": "code",
   "execution_count": null,
   "id": "d20110f2-aae9-40b4-b164-e3aa2cfba25b",
   "metadata": {},
   "outputs": [],
   "source": [
    "# A4. Read the given data “churn.csv” and save it as a dataframe called churn_data. \n",
    "# Perform following operations on the dataframe\n",
    "# i) Count total number of duplicate records in the dataframe \n",
    "# ii) Count the no. of duplicate records in the churn dataframe based on the cutomerID column \n",
    "# iii) Count number of missing values in each columns \n",
    "# iv) Count the total no. of missing values for the variable TotalCharges  \n",
    "# v) Average monthly charge paid by a customer for the services he/she has signed up for \n",
    "# vi) Display the records having “1@#” under the variable Dependents  \n",
    "# vii) Replace null values in churn dataframe by median value or by max count class category    \n",
    "# (https://drive.google.com/file/d/1JSYGIIkIZr4jyheDEH0X1_TMSnQ2CzXc/view) \n",
    " "
   ]
  },
  {
   "cell_type": "code",
   "execution_count": 41,
   "id": "85760160",
   "metadata": {
    "scrolled": true
   },
   "outputs": [
    {
     "data": {
      "text/html": [
       "<div>\n",
       "<style scoped>\n",
       "    .dataframe tbody tr th:only-of-type {\n",
       "        vertical-align: middle;\n",
       "    }\n",
       "\n",
       "    .dataframe tbody tr th {\n",
       "        vertical-align: top;\n",
       "    }\n",
       "\n",
       "    .dataframe thead th {\n",
       "        text-align: right;\n",
       "    }\n",
       "</style>\n",
       "<table border=\"1\" class=\"dataframe\">\n",
       "  <thead>\n",
       "    <tr style=\"text-align: right;\">\n",
       "      <th></th>\n",
       "      <th>Unnamed: 0</th>\n",
       "      <th>customerID</th>\n",
       "      <th>tenure</th>\n",
       "      <th>Contract</th>\n",
       "      <th>PaperlessBilling</th>\n",
       "      <th>PaymentMethod</th>\n",
       "      <th>MonthlyCharges</th>\n",
       "      <th>TotalCharges</th>\n",
       "      <th>gender</th>\n",
       "      <th>SeniorCitizen</th>\n",
       "      <th>...</th>\n",
       "      <th>PhoneService</th>\n",
       "      <th>MultipleLines</th>\n",
       "      <th>InternetService</th>\n",
       "      <th>OnlineSecurity</th>\n",
       "      <th>OnlineBackup</th>\n",
       "      <th>DeviceProtection</th>\n",
       "      <th>TechSupport</th>\n",
       "      <th>StreamingTV</th>\n",
       "      <th>StreamingMovies</th>\n",
       "      <th>Churn</th>\n",
       "    </tr>\n",
       "  </thead>\n",
       "  <tbody>\n",
       "    <tr>\n",
       "      <th>0</th>\n",
       "      <td>1</td>\n",
       "      <td>8260-NGFNY</td>\n",
       "      <td>One</td>\n",
       "      <td>Month-to-month</td>\n",
       "      <td>No</td>\n",
       "      <td>Mailed check</td>\n",
       "      <td>25.2</td>\n",
       "      <td>25.20</td>\n",
       "      <td>Female</td>\n",
       "      <td>0.0</td>\n",
       "      <td>...</td>\n",
       "      <td>No</td>\n",
       "      <td>No phone service</td>\n",
       "      <td>DSL</td>\n",
       "      <td>No</td>\n",
       "      <td>No</td>\n",
       "      <td>No</td>\n",
       "      <td>No</td>\n",
       "      <td>No</td>\n",
       "      <td>No</td>\n",
       "      <td>Yes</td>\n",
       "    </tr>\n",
       "    <tr>\n",
       "      <th>1</th>\n",
       "      <td>2</td>\n",
       "      <td>2359-QWQUL</td>\n",
       "      <td>39</td>\n",
       "      <td>One year</td>\n",
       "      <td>Yes</td>\n",
       "      <td>Credit card (automatic)</td>\n",
       "      <td>104.7</td>\n",
       "      <td>4134.85</td>\n",
       "      <td>Female</td>\n",
       "      <td>0.0</td>\n",
       "      <td>...</td>\n",
       "      <td>Yes</td>\n",
       "      <td>No</td>\n",
       "      <td>Fiber optic</td>\n",
       "      <td>Yes</td>\n",
       "      <td>No</td>\n",
       "      <td>Yes</td>\n",
       "      <td>Yes</td>\n",
       "      <td>Yes</td>\n",
       "      <td>Yes</td>\n",
       "      <td>Yes</td>\n",
       "    </tr>\n",
       "    <tr>\n",
       "      <th>2</th>\n",
       "      <td>3</td>\n",
       "      <td>6598/RFFVI</td>\n",
       "      <td>2</td>\n",
       "      <td>One year</td>\n",
       "      <td>No</td>\n",
       "      <td>Credit card (automatic)</td>\n",
       "      <td>19.3</td>\n",
       "      <td>28.30</td>\n",
       "      <td>Male</td>\n",
       "      <td>0.0</td>\n",
       "      <td>...</td>\n",
       "      <td>Yes</td>\n",
       "      <td>No</td>\n",
       "      <td>No</td>\n",
       "      <td>No internet service</td>\n",
       "      <td>No internet service</td>\n",
       "      <td>No internet service</td>\n",
       "      <td>No internet service</td>\n",
       "      <td>No internet service</td>\n",
       "      <td>No internet service</td>\n",
       "      <td>Yes</td>\n",
       "    </tr>\n",
       "    <tr>\n",
       "      <th>3</th>\n",
       "      <td>4</td>\n",
       "      <td>IXSTS-8780</td>\n",
       "      <td>6</td>\n",
       "      <td>Month-to-month</td>\n",
       "      <td>Yes</td>\n",
       "      <td>Electronic check</td>\n",
       "      <td>90.1</td>\n",
       "      <td>521.30</td>\n",
       "      <td>Female</td>\n",
       "      <td>0.0</td>\n",
       "      <td>...</td>\n",
       "      <td>Yes</td>\n",
       "      <td>Yes</td>\n",
       "      <td>Fiber optic</td>\n",
       "      <td>No</td>\n",
       "      <td>Yes</td>\n",
       "      <td>No</td>\n",
       "      <td>No</td>\n",
       "      <td>Yes</td>\n",
       "      <td>No</td>\n",
       "      <td>Yes</td>\n",
       "    </tr>\n",
       "    <tr>\n",
       "      <th>4</th>\n",
       "      <td>5</td>\n",
       "      <td>2674/MIAHT</td>\n",
       "      <td>Four</td>\n",
       "      <td>Month-to-month</td>\n",
       "      <td>Yes</td>\n",
       "      <td>Mailed check</td>\n",
       "      <td>80.3</td>\n",
       "      <td>324.20</td>\n",
       "      <td>Female</td>\n",
       "      <td>0.0</td>\n",
       "      <td>...</td>\n",
       "      <td>Yes</td>\n",
       "      <td>Yes</td>\n",
       "      <td>Fiber optic</td>\n",
       "      <td>No</td>\n",
       "      <td>Yes</td>\n",
       "      <td>No</td>\n",
       "      <td>No</td>\n",
       "      <td>No</td>\n",
       "      <td>No</td>\n",
       "      <td>No</td>\n",
       "    </tr>\n",
       "  </tbody>\n",
       "</table>\n",
       "<p>5 rows × 22 columns</p>\n",
       "</div>"
      ],
      "text/plain": [
       "   Unnamed: 0  customerID tenure        Contract PaperlessBilling  \\\n",
       "0           1  8260-NGFNY    One  Month-to-month               No   \n",
       "1           2  2359-QWQUL     39        One year              Yes   \n",
       "2           3  6598/RFFVI      2        One year               No   \n",
       "3           4  IXSTS-8780      6  Month-to-month              Yes   \n",
       "4           5  2674/MIAHT   Four  Month-to-month              Yes   \n",
       "\n",
       "             PaymentMethod  MonthlyCharges  TotalCharges  gender  \\\n",
       "0             Mailed check            25.2         25.20  Female   \n",
       "1  Credit card (automatic)           104.7       4134.85  Female   \n",
       "2  Credit card (automatic)            19.3         28.30    Male   \n",
       "3         Electronic check            90.1        521.30  Female   \n",
       "4             Mailed check            80.3        324.20  Female   \n",
       "\n",
       "   SeniorCitizen  ... PhoneService     MultipleLines InternetService  \\\n",
       "0            0.0  ...           No  No phone service             DSL   \n",
       "1            0.0  ...          Yes                No     Fiber optic   \n",
       "2            0.0  ...          Yes                No              No   \n",
       "3            0.0  ...          Yes               Yes     Fiber optic   \n",
       "4            0.0  ...          Yes               Yes     Fiber optic   \n",
       "\n",
       "        OnlineSecurity         OnlineBackup     DeviceProtection  \\\n",
       "0                   No                   No                   No   \n",
       "1                  Yes                   No                  Yes   \n",
       "2  No internet service  No internet service  No internet service   \n",
       "3                   No                  Yes                   No   \n",
       "4                   No                  Yes                   No   \n",
       "\n",
       "           TechSupport          StreamingTV      StreamingMovies Churn  \n",
       "0                   No                   No                   No   Yes  \n",
       "1                  Yes                  Yes                  Yes   Yes  \n",
       "2  No internet service  No internet service  No internet service   Yes  \n",
       "3                   No                  Yes                   No   Yes  \n",
       "4                   No                   No                   No    No  \n",
       "\n",
       "[5 rows x 22 columns]"
      ]
     },
     "execution_count": 41,
     "metadata": {},
     "output_type": "execute_result"
    }
   ],
   "source": [
    "import pandas as pd\n",
    "df=pd.read_csv('churn.csv')\n",
    "# print(df)\n",
    "df.head()\n"
   ]
  },
  {
   "cell_type": "code",
   "execution_count": 43,
   "id": "b28de271",
   "metadata": {},
   "outputs": [
    {
     "name": "stdout",
     "output_type": "stream",
     "text": [
      "\n",
      " number of duplicate records :0\n"
     ]
    }
   ],
   "source": [
    "# i) Count total number of duplicate records in the dataframe \n",
    "duplicate_count=df.duplicated().sum()\n",
    "print(f\"\\n number of duplicate records :{duplicate_count}\")"
   ]
  },
  {
   "cell_type": "code",
   "execution_count": 45,
   "id": "94106f96",
   "metadata": {},
   "outputs": [
    {
     "name": "stdout",
     "output_type": "stream",
     "text": [
      "number of duplicate reocrds based on 'customerID' column:7\n"
     ]
    }
   ],
   "source": [
    "# ii) count the number of duplicate records based on customerID column\n",
    "\n",
    "# duplicate_customer_id=df.duplicated(subset=['customerID']).sum()\n",
    "duplicate_customer_id=df['customerID'].duplicated().sum()\n",
    "print(f\"number of duplicate reocrds based on 'customerID' column:{duplicate_customer_id}\")"
   ]
  },
  {
   "cell_type": "code",
   "execution_count": 21,
   "id": "855bbc7d",
   "metadata": {
    "scrolled": true
   },
   "outputs": [
    {
     "name": "stdout",
     "output_type": "stream",
     "text": [
      "\n",
      " number of missing values in each column:\n",
      "Unnamed: 0           0\n",
      "customerID           0\n",
      "tenure               0\n",
      "Contract             0\n",
      "PaperlessBilling     0\n",
      "PaymentMethod        0\n",
      "MonthlyCharges      10\n",
      "TotalCharges        15\n",
      "gender               0\n",
      "SeniorCitizen        5\n",
      "Partner              0\n",
      "Dependents           0\n",
      "PhoneService         0\n",
      "MultipleLines        0\n",
      "InternetService      0\n",
      "OnlineSecurity       0\n",
      "OnlineBackup         0\n",
      "DeviceProtection     0\n",
      "TechSupport          0\n",
      "StreamingTV          0\n",
      "StreamingMovies      0\n",
      "Churn                0\n",
      "dtype: int64\n"
     ]
    }
   ],
   "source": [
    "# iii)count the number of missing values in each column\n",
    "\n",
    "missing_values_per_column=df.isnull().sum()\n",
    "print(\"\\n number of missing values in each column:\")\n",
    "print(missing_values_per_column)"
   ]
  },
  {
   "cell_type": "code",
   "execution_count": 23,
   "id": "079045c0",
   "metadata": {},
   "outputs": [
    {
     "name": "stdout",
     "output_type": "stream",
     "text": [
      "\n",
      " total number of missing values for 'totalcharges':15\n"
     ]
    }
   ],
   "source": [
    "# iv) count the total number of missing values for total charges\n",
    "missing_values_total_charges=df['TotalCharges'].isnull().sum()\n",
    "print(f\"\\n total number of missing values for 'totalcharges':{missing_values_total_charges}\")"
   ]
  },
  {
   "cell_type": "code",
   "execution_count": 25,
   "id": "7f1ddf1f",
   "metadata": {},
   "outputs": [
    {
     "name": "stdout",
     "output_type": "stream",
     "text": [
      "\n",
      " average monthly charges:62.47348178137652\n"
     ]
    }
   ],
   "source": [
    "# v)calculate the avergae monthly charges\n",
    "average_monthly_charge=df['MonthlyCharges'].mean()\n",
    "print(f\"\\n average monthly charges:{average_monthly_charge}\")"
   ]
  },
  {
   "cell_type": "code",
   "execution_count": 49,
   "id": "87e38231",
   "metadata": {
    "scrolled": true
   },
   "outputs": [
    {
     "name": "stdout",
     "output_type": "stream",
     "text": [
      "\n",
      " records with 'Dependents' equal to '1@#':\n",
      "     Unnamed: 0  customerID tenure        Contract PaperlessBilling  \\\n",
      "89           90  1754-GKYPY     22  Month-to-month              Yes   \n",
      "125         126  9108-EQPNQ     10        Two year               No   \n",
      "174         175  2640-PMGFL     27  Month-to-month              Yes   \n",
      "220         221  8854-CCVSQ     18  Month-to-month              Yes   \n",
      "234         235  6876-ADESB    One  Month-to-month               No   \n",
      "238         239  1972-XMUWV     65        Two year              Yes   \n",
      "\n",
      "                 PaymentMethod  MonthlyCharges  TotalCharges  gender  \\\n",
      "89   Bank transfer (automatic)           89.75       1938.90    Male   \n",
      "125    Credit card (automatic)           26.10        225.55  Female   \n",
      "174           Electronic check           79.50       2180.55    Male   \n",
      "220           Electronic check           80.65       1451.90    Male   \n",
      "234           Electronic check           48.95         48.95    Male   \n",
      "238    Credit card (automatic)           59.80       3808.20  Female   \n",
      "\n",
      "     SeniorCitizen  ... PhoneService MultipleLines InternetService  \\\n",
      "89             1.0  ...          Yes            No     Fiber optic   \n",
      "125            0.0  ...          Yes           Yes              No   \n",
      "174            0.0  ...          Yes           Yes     Fiber optic   \n",
      "220            0.0  ...          Yes           Yes     Fiber optic   \n",
      "234            0.0  ...          Yes            No             DSL   \n",
      "238            0.0  ...          Yes            No             DSL   \n",
      "\n",
      "          OnlineSecurity         OnlineBackup     DeviceProtection  \\\n",
      "89                    No                   No                   No   \n",
      "125  No internet service  No internet service  No internet service   \n",
      "174                   No                   No                   No   \n",
      "220                   No                  Yes                   No   \n",
      "234                   No                   No                  Yes   \n",
      "238                   No                   No                   No   \n",
      "\n",
      "             TechSupport          StreamingTV      StreamingMovies Churn  \n",
      "89                    No                  Yes                  Yes    No  \n",
      "125  No internet service  No internet service  No internet service    No  \n",
      "174                  Yes                   No                   No   Yes  \n",
      "220                   No                   No                   No   Yes  \n",
      "234                   No                   No                   No   Yes  \n",
      "238                  Yes                  Yes                   No    No  \n",
      "\n",
      "[6 rows x 22 columns]\n"
     ]
    }
   ],
   "source": [
    "# vi)display records where 'dependents' is \"1@#\"\n",
    "filtered_records=df[df['Dependents']=='1@#']\n",
    "print(\"\\n records with 'Dependents' equal to '1@#':\")\n",
    "print(filtered_records)\n",
    "\n",
    "# filtered_records=df.query(\"Dependents=='1@#'\")\n",
    "# print(filtered_records)"
   ]
  },
  {
   "cell_type": "code",
   "execution_count": 29,
   "id": "db9982ad",
   "metadata": {
    "scrolled": true
   },
   "outputs": [
    {
     "name": "stdout",
     "output_type": "stream",
     "text": [
      "Unnamed: 0          0\n",
      "customerID          0\n",
      "tenure              0\n",
      "Contract            0\n",
      "PaperlessBilling    0\n",
      "PaymentMethod       0\n",
      "MonthlyCharges      0\n",
      "TotalCharges        0\n",
      "gender              0\n",
      "SeniorCitizen       0\n",
      "Partner             0\n",
      "Dependents          0\n",
      "PhoneService        0\n",
      "MultipleLines       0\n",
      "InternetService     0\n",
      "OnlineSecurity      0\n",
      "OnlineBackup        0\n",
      "DeviceProtection    0\n",
      "TechSupport         0\n",
      "StreamingTV         0\n",
      "StreamingMovies     0\n",
      "Churn               0\n",
      "dtype: int64\n"
     ]
    }
   ],
   "source": [
    "# vii) Replace null values in churn dataframe by median value or by max count class category    \n",
    "new_df=df.fillna(df.median(numeric_only=True))\n",
    "new_df=df.fillna(df.mode().iloc[0])\n",
    "missing_values_per_column=new_df.isnull().sum()\n",
    "print(new_df.isnull().sum())\n"
   ]
  },
  {
   "cell_type": "code",
   "execution_count": 31,
   "id": "2831db4c",
   "metadata": {
    "scrolled": true
   },
   "outputs": [
    {
     "name": "stdout",
     "output_type": "stream",
     "text": [
      "the original column is:\n",
      "0       25.20\n",
      "1      104.70\n",
      "2       19.30\n",
      "3       90.10\n",
      "4       80.30\n",
      "        ...  \n",
      "252     18.85\n",
      "253     20.60\n",
      "254     20.60\n",
      "255     20.60\n",
      "256     20.60\n",
      "Name: MonthlyCharges, Length: 257, dtype: float64\n",
      "the replaced column is :\n"
     ]
    },
    {
     "data": {
      "text/plain": [
       "0       25.00\n",
       "1      104.70\n",
       "2       19.30\n",
       "3       90.10\n",
       "4       80.30\n",
       "        ...  \n",
       "252     18.85\n",
       "253     20.60\n",
       "254     20.60\n",
       "255     20.60\n",
       "256     20.60\n",
       "Name: MonthlyCharges, Length: 257, dtype: float64"
      ]
     },
     "execution_count": 31,
     "metadata": {},
     "output_type": "execute_result"
    }
   ],
   "source": [
    "print(\"the original column is:\")\n",
    "print(new_df['MonthlyCharges'])\n",
    "x=new_df['MonthlyCharges']\n",
    "print(\"the replaced column is :\")\n",
    "x.replace(25.20,25)\n",
    "\n",
    "\n",
    "\n"
   ]
  }
 ],
 "metadata": {
  "kernelspec": {
   "display_name": "Python [conda env:base] *",
   "language": "python",
   "name": "conda-base-py"
  },
  "language_info": {
   "codemirror_mode": {
    "name": "ipython",
    "version": 3
   },
   "file_extension": ".py",
   "mimetype": "text/x-python",
   "name": "python",
   "nbconvert_exporter": "python",
   "pygments_lexer": "ipython3",
   "version": "3.12.7"
  }
 },
 "nbformat": 4,
 "nbformat_minor": 5
}
